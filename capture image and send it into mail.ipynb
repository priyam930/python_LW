{
 "cells": [
  {
   "cell_type": "code",
   "execution_count": 3,
   "id": "fa8542b1-d3e9-4649-a7bf-552e841752c9",
   "metadata": {},
   "outputs": [
    {
     "name": "stdout",
     "output_type": "stream",
     "text": [
      "Image saved as captured_image.jpg\n"
     ]
    },
    {
     "name": "stdin",
     "output_type": "stream",
     "text": [
      "Enter recipient's email address:  priyamsanodiya77@gmail.com\n",
      "Enter a subject:  hello\n",
      "Enter a message body:  hihdsja\n"
     ]
    },
    {
     "name": "stdout",
     "output_type": "stream",
     "text": [
      "Email sent successfully.\n"
     ]
    }
   ],
   "source": [
    "import cv2\n",
    "import smtplib\n",
    "from email.mime.multipart import MIMEMultipart\n",
    "from email.mime.text import MIMEText\n",
    "from email.mime.base import MIMEBase\n",
    "from email import encoders\n",
    "import os\n",
    "\n",
    "def capture_image(filename):\n",
    "    cap = cv2.VideoCapture(0)\n",
    "    if not cap.isOpened():\n",
    "        print(\"Could not open webcam\")\n",
    "        return False\n",
    "    ret, frame = cap.read()\n",
    "    if ret:\n",
    "        cv2.imwrite(filename, frame)\n",
    "        print(f\"Image saved as {filename}\")\n",
    "        cap.release()\n",
    "        cv2.destroyAllWindows()\n",
    "        return True\n",
    "    else:\n",
    "        print(\"Failed to capture image\")\n",
    "        cap.release()\n",
    "        cv2.destroyAllWindows()\n",
    "        return False\n",
    "\n",
    "def send_email_with_attachment(sender_email, receiver_email, password, subject, body, attachment_path):\n",
    "    message = MIMEMultipart()\n",
    "    message['From'] = sender_email\n",
    "    message['To'] = receiver_email\n",
    "    message['Subject'] = subject\n",
    "    message.attach(MIMEText(body, 'plain'))\n",
    "\n",
    "    try:\n",
    "        with open(attachment_path, \"rb\") as attachment:\n",
    "            part = MIMEBase('application', 'octet-stream')\n",
    "            part.set_payload(attachment.read())\n",
    "            encoders.encode_base64(part)\n",
    "            part.add_header('Content-Disposition', f'attachment; filename={os.path.basename(attachment_path)}')\n",
    "            message.attach(part)\n",
    "    except FileNotFoundError:\n",
    "        print(f\"Attachment file {attachment_path} not found.\")\n",
    "        return\n",
    "    \n",
    "    try:\n",
    "        with smtplib.SMTP('smtp.gmail.com', 587) as server:\n",
    "            server.starttls()\n",
    "            server.login(sender_email, password)\n",
    "            server.sendmail(sender_email, receiver_email, message.as_string())\n",
    "        print(\"Email sent successfully.\")\n",
    "    except Exception as e:\n",
    "        print(f\"Error sending email: {e}\")\n",
    "\n",
    "def capture_and_send_image():\n",
    "    image_filename = \"captured_image.jpg\"\n",
    "    \n",
    "    if capture_image(image_filename):\n",
    "        sender_email = \"your email address\"\n",
    "       \n",
    "        password = \"your email password\"\n",
    "        receiver_email = input(\"Enter recipient's email address: \")\n",
    "        subject = input(\"Enter a subject: \")\n",
    "        body = input(\"Enter a message body: \")\n",
    "        \n",
    "        send_email_with_attachment(sender_email, receiver_email, password, subject, body, image_filename)\n",
    "\n",
    "if __name__ == \"__main__\":\n",
    "    capture_and_send_image()\n"
   ]
  },
  {
   "cell_type": "code",
   "execution_count": null,
   "id": "10ab40e7-8eba-47f3-8199-bc83854758d5",
   "metadata": {},
   "outputs": [],
   "source": []
  }
 ],
 "metadata": {
  "kernelspec": {
   "display_name": "Python 3 (ipykernel)",
   "language": "python",
   "name": "python3"
  },
  "language_info": {
   "codemirror_mode": {
    "name": "ipython",
    "version": 3
   },
   "file_extension": ".py",
   "mimetype": "text/x-python",
   "name": "python",
   "nbconvert_exporter": "python",
   "pygments_lexer": "ipython3",
   "version": "3.12.4"
  }
 },
 "nbformat": 4,
 "nbformat_minor": 5
}
