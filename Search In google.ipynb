{
 "cells": [
  {
   "cell_type": "code",
   "execution_count": 3,
   "id": "b1f0a6af-1e4b-4f5a-b8b8-9ac230468d02",
   "metadata": {},
   "outputs": [
    {
     "name": "stdin",
     "output_type": "stream",
     "text": [
      "Enter your search query:  python\n"
     ]
    },
    {
     "name": "stdout",
     "output_type": "stream",
     "text": [
      "1. https://www.python.org/\n",
      "2. https://www.w3schools.com/python/\n",
      "3. https://www.w3schools.com/python/python_intro.asp\n",
      "4. https://www.w3schools.com/python/python_exercises.asp\n",
      "5. https://www.w3schools.com/python/python_lists.asp\n",
      "6. https://www.w3schools.com/python/python_variables.asp\n",
      "7. https://en.wikipedia.org/wiki/Python_(programming_language)\n",
      "8. https://en.wikipedia.org/wiki/History_of_Python\n",
      "9. https://en.wikipedia.org/wiki/Zen_of_Python\n",
      "10. https://en.wikipedia.org/wiki/Stackless_Python\n"
     ]
    }
   ],
   "source": [
    "from googlesearch import search\n",
    "\n",
    "def google_search(query):\n",
    "    try:\n",
    "        # Perform the search and get the top 10 results\n",
    "        results = search(query, num=10, stop=10, pause=2)\n",
    "        for i, result in enumerate(results, start=1):\n",
    "            print(f\"{i}. {result}\")\n",
    "    except Exception as e:\n",
    "        print(f\"An error occurred: {e}\")\n",
    "\n",
    "if __name__ == \"__main__\":\n",
    "    query = input(\"Enter your search query: \")\n",
    "    google_search(query)\n"
   ]
  },
  {
   "cell_type": "code",
   "execution_count": null,
   "id": "00ab01d3-a7be-4e2b-9506-ddfd6418ba8b",
   "metadata": {},
   "outputs": [],
   "source": []
  }
 ],
 "metadata": {
  "kernelspec": {
   "display_name": "Python 3 (ipykernel)",
   "language": "python",
   "name": "python3"
  },
  "language_info": {
   "codemirror_mode": {
    "name": "ipython",
    "version": 3
   },
   "file_extension": ".py",
   "mimetype": "text/x-python",
   "name": "python",
   "nbconvert_exporter": "python",
   "pygments_lexer": "ipython3",
   "version": "3.12.4"
  }
 },
 "nbformat": 4,
 "nbformat_minor": 5
}
