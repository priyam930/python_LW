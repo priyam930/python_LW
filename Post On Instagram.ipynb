{
 "cells": [
  {
   "cell_type": "code",
   "execution_count": null,
   "id": "dfd3115e-b5d3-4de3-a504-e739d87b98a2",
   "metadata": {},
   "outputs": [
    {
     "name": "stdin",
     "output_type": "stream",
     "text": [
      "Enter your Instagram username:  mystic_map\n",
      "Enter your Instagram password:  ········\n",
      "Enter the path to the photo you want to upload:  C:\\Users\\priyam\\OneDrive\\Pictures\\MysticMaps-Photoroom[1].png\n",
      "Enter the caption for the photo:  hello\n"
     ]
    }
   ],
   "source": [
    "from instagrapi import Client\n",
    "import getpass\n",
    "\n",
    "def post_on_instagram():\n",
    "    username = input(\"Enter your Instagram username: \")\n",
    "    password = getpass.getpass(\"Enter your Instagram password: \")\n",
    "    photo_path = input(\"Enter the path to the photo you want to upload: \")\n",
    "    caption = input(\"Enter the caption for the photo: \")\n",
    "\n",
    "    # Initialize the client\n",
    "    client = Client()\n",
    "\n",
    "    # Login to Instagram\n",
    "    client.login(username, password)\n",
    "\n",
    "    # Upload the photo with the caption\n",
    "    media = client.photo_upload(photo_path, caption=caption)\n",
    "\n",
    "    # Extract media ID\n",
    "    \n",
    "\n",
    "    print(f\"Photo uploaded successfully! Media ID: {media.id}\")\n",
    "\n",
    "if __name__ == \"__main__\":\n",
    "    post_on_instagram()\n"
   ]
  },
  {
   "cell_type": "code",
   "execution_count": 3,
   "id": "9ea1e9bf-c9af-4c05-b4e9-08014c996d27",
   "metadata": {},
   "outputs": [
    {
     "name": "stdout",
     "output_type": "stream",
     "text": [
      "Note: you may need to restart the kernel to use updated packages.\n"
     ]
    },
    {
     "name": "stderr",
     "output_type": "stream",
     "text": [
      "ERROR: Could not find a version that satisfies the requirement instagraphi (from versions: none)\n",
      "ERROR: No matching distribution found for instagraphi\n"
     ]
    }
   ],
   "source": [
    "pip install instagraphi\n"
   ]
  },
  {
   "cell_type": "code",
   "execution_count": null,
   "id": "7a7c4a84-6230-416c-8cca-fafc59a733b9",
   "metadata": {},
   "outputs": [],
   "source": []
  }
 ],
 "metadata": {
  "kernelspec": {
   "display_name": "Python 3 (ipykernel)",
   "language": "python",
   "name": "python3"
  },
  "language_info": {
   "codemirror_mode": {
    "name": "ipython",
    "version": 3
   },
   "file_extension": ".py",
   "mimetype": "text/x-python",
   "name": "python",
   "nbconvert_exporter": "python",
   "pygments_lexer": "ipython3",
   "version": "3.12.4"
  }
 },
 "nbformat": 4,
 "nbformat_minor": 5
}
