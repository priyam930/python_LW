{
 "cells": [
  {
   "cell_type": "code",
   "execution_count": 1,
   "id": "f6327225-d7ed-48d9-aa31-8ad67f8ef3cf",
   "metadata": {},
   "outputs": [
    {
     "name": "stdin",
     "output_type": "stream",
     "text": [
      "Enter recipient's email id:  priyamsanodiya77@gmail.com\n",
      "Enter the subject:  heloo\n",
      "Enter the body:  heifkblqwertyuic\n",
      "Enter the hour (24-hour format) you want to send the email:  9\n",
      "Enter the minute you want to send the email:  35\n"
     ]
    },
    {
     "name": "stdout",
     "output_type": "stream",
     "text": [
      "Email scheduled to be sent to priyamsanodiya77@gmail.com at 2024-07-26 09:35:00.\n",
      "Email sent!\n"
     ]
    }
   ],
   "source": [
    "import smtplib\n",
    "from email.mime.multipart import MIMEMultipart\n",
    "from email.mime.text import MIMEText\n",
    "import time\n",
    "from datetime import datetime, timedelta\n",
    "\n",
    "def send_email(email_id, password, to, subject, content):\n",
    "    # Create the email\n",
    "    msg = MIMEMultipart()\n",
    "    msg['From'] = email_id\n",
    "    msg['To'] = to\n",
    "    msg['Subject'] = subject\n",
    "    msg.attach(MIMEText(content, 'plain'))\n",
    "    \n",
    "    # Connect to the server and send the email\n",
    "    server = smtplib.SMTP('smtp.gmail.com', 587)\n",
    "    server.starttls()\n",
    "    server.login(email_id, password)\n",
    "    server.sendmail(email_id, to, msg.as_string())\n",
    "    server.quit()\n",
    "\n",
    "def schedule_email():\n",
    "    email_id = \"priyamsanodiya340@gmail.com\"\n",
    "    password = \"dhgy zwex fjan nrgu\"\n",
    "    \n",
    "    to = input(\"Enter recipient's email id: \")\n",
    "    subject = input(\"Enter the subject: \")\n",
    "    content = input(\"Enter the body: \")\n",
    "    \n",
    "    send_hour = int(input(\"Enter the hour (24-hour format) you want to send the email: \"))\n",
    "    send_minute = int(input(\"Enter the minute you want to send the email: \"))\n",
    "    \n",
    "    send_time = datetime.now().replace(hour=send_hour, minute=send_minute, second=0, microsecond=0)\n",
    "    if send_time < datetime.now():\n",
    "        send_time += timedelta(days=1)\n",
    "    \n",
    "    time_to_wait = (send_time - datetime.now()).total_seconds()\n",
    "    \n",
    "    print(f\"Email scheduled to be sent to {to} at {send_time.strftime('%Y-%m-%d %H:%M:%S')}.\")\n",
    "    time.sleep(time_to_wait)\n",
    "    \n",
    "    send_email(email_id, password, to, subject, content)\n",
    "    print(\"Email sent!\")\n",
    "\n",
    "if __name__ == \"__main__\":\n",
    "    schedule_email()\n"
   ]
  },
  {
   "cell_type": "code",
   "execution_count": null,
   "id": "35025465-47c5-4e3d-b54e-59e8c45178fe",
   "metadata": {},
   "outputs": [],
   "source": []
  }
 ],
 "metadata": {
  "kernelspec": {
   "display_name": "Python 3 (ipykernel)",
   "language": "python",
   "name": "python3"
  },
  "language_info": {
   "codemirror_mode": {
    "name": "ipython",
    "version": 3
   },
   "file_extension": ".py",
   "mimetype": "text/x-python",
   "name": "python",
   "nbconvert_exporter": "python",
   "pygments_lexer": "ipython3",
   "version": "3.12.4"
  }
 },
 "nbformat": 4,
 "nbformat_minor": 5
}
