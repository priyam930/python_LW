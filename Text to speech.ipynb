{
 "cells": [
  {
   "cell_type": "code",
   "execution_count": 1,
   "id": "0aa36b80-a42d-48ba-b0d0-af4abed81f3b",
   "metadata": {},
   "outputs": [],
   "source": [
    "def speak_text(text):\n",
    "    import pyttsx3\n",
    "\n",
    "    # Initialize the TTS engine\n",
    "    engine = pyttsx3.init()\n",
    "    # Get available voices\n",
    "    voices = engine.getProperty('voices')\n",
    "    # Set the voice to the second available voice (usually female)\n",
    "    engine.setProperty('voice', voices[1].id)\n",
    "    # Set the text to be spoken\n",
    "    engine.say(text)\n",
    "    \n",
    "    # Wait for the speech to finish\n",
    "    engine.runAndWait()\n",
    "    \n",
    "    # Properly terminate the engine\n",
    "    engine.stop()\n",
    "\n",
    "# Example usage\n",
    "if __name__ == \"__main__\":\n",
    "    speak_text(\"Hello, how can I assist you today?\")\n"
   ]
  },
  {
   "cell_type": "code",
   "execution_count": null,
   "id": "ce596acb-5ef3-4a92-a58e-a9ad9f0b7def",
   "metadata": {},
   "outputs": [],
   "source": []
  }
 ],
 "metadata": {
  "kernelspec": {
   "display_name": "Python 3 (ipykernel)",
   "language": "python",
   "name": "python3"
  },
  "language_info": {
   "codemirror_mode": {
    "name": "ipython",
    "version": 3
   },
   "file_extension": ".py",
   "mimetype": "text/x-python",
   "name": "python",
   "nbconvert_exporter": "python",
   "pygments_lexer": "ipython3",
   "version": "3.12.4"
  }
 },
 "nbformat": 4,
 "nbformat_minor": 5
}
