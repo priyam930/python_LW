{
 "cells": [
  {
   "cell_type": "code",
   "execution_count": null,
   "id": "e677ad5a-efce-421a-b36e-aba109c86127",
   "metadata": {},
   "outputs": [],
   "source": [
    "from twilio.rest import Client\n",
    "\n",
    "def send_sms():\n",
    "    # Your Account SID and Auth Token from twilio.com/console\n",
    "    account_sid = 'your_account_sid'\n",
    "    auth_token = 'your_auth_token'\n",
    "    client = Client(account_sid, auth_token)\n",
    "\n",
    "    # Recipient's phone number (include country code) and message\n",
    "    phone_number = input(\"Enter the recipient's phone number (include country code): \")\n",
    "    message_body = input(\"Enter the message you want to send: \")\n",
    "\n",
    "    # Sending the message\n",
    "    message = client.messages.create(\n",
    "        body=message_body,\n",
    "        from_='your_twilio_phone_number',\n",
    "        to=phone_number\n",
    "    )\n",
    "\n",
    "    print(f\"Message sent to {phone_number}. SID: {message.sid}\")\n",
    "\n",
    "if __name__ == \"__main__\":\n",
    "    send_sms()\n"
   ]
  },
  {
   "cell_type": "code",
   "execution_count": null,
   "id": "e4bf1d55-6dc2-465b-b3cd-ab04be571ad4",
   "metadata": {},
   "outputs": [],
   "source": []
  }
 ],
 "metadata": {
  "kernelspec": {
   "display_name": "Python 3 (ipykernel)",
   "language": "python",
   "name": "python3"
  },
  "language_info": {
   "codemirror_mode": {
    "name": "ipython",
    "version": 3
   },
   "file_extension": ".py",
   "mimetype": "text/x-python",
   "name": "python",
   "nbconvert_exporter": "python",
   "pygments_lexer": "ipython3",
   "version": "3.12.4"
  }
 },
 "nbformat": 4,
 "nbformat_minor": 5
}
