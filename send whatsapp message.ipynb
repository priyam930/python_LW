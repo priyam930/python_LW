{
 "cells": [
  {
   "cell_type": "code",
   "execution_count": null,
   "id": "5fe0456b-3452-4f6b-a6bd-a7c412b2cded",
   "metadata": {},
   "outputs": [],
   "source": []
  },
  {
   "cell_type": "code",
   "execution_count": null,
   "id": "61b26b9d-b989-435a-9a37-ebafe3492d2f",
   "metadata": {
    "scrolled": true
   },
   "outputs": [],
   "source": [
    "pip install pywhatkit"
   ]
  },
  {
   "cell_type": "code",
   "execution_count": null,
   "id": "aa55b893-9329-48de-99ef-d4b4f0846061",
   "metadata": {},
   "outputs": [],
   "source": [
    "import pywhatkit as kit\n",
    "\n",
    "def send_whatsapp_message():\n",
    "    phone_number = input(\"Enter the recipient's phone number (include country code): \")\n",
    "    message = input(\"Enter the message you want to send: \")\n",
    "    \n",
    "    send_option = input(\"Do you want to send the message instantly or schedule it? (Enter 'instant' or 'schedule'): \").strip().lower()\n",
    "    \n",
    "    if send_option == 'instant':\n",
    "        kit.sendwhatmsg_instantly(phone_number, message)\n",
    "        print(f\"Message sent instantly to {phone_number}.\")\n",
    "        \n",
    "    elif send_option == 'schedule':\n",
    "        \n",
    "        hour = int(input(\"Enter the hour (24-hour format) you want to schedule the message for: \"))\n",
    "        minute = int(input(\"Enter the minute you want to schedule the message for: \"))\n",
    "        kit.sendwhatmsg(phone_number, message, hour, minute)\n",
    "        \n",
    "        print(f\"Message scheduled to {phone_number} at {hour}:{minute}.\")\n",
    "    else:\n",
    "        print(\"Invalid option. Please enter 'instant' or 'schedule'.\")\n",
    "\n",
    "if __name__ == \"__main__\":\n",
    "    send_whatsapp_message()\n"
   ]
  }
 ],
 "metadata": {
  "kernelspec": {
   "display_name": "Python 3 (ipykernel)",
   "language": "python",
   "name": "python3"
  },
  "language_info": {
   "codemirror_mode": {
    "name": "ipython",
    "version": 3
   },
   "file_extension": ".py",
   "mimetype": "text/x-python",
   "name": "python",
   "nbconvert_exporter": "python",
   "pygments_lexer": "ipython3",
   "version": "3.12.4"
  }
 },
 "nbformat": 4,
 "nbformat_minor": 5
}
