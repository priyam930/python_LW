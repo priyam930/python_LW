{
 "cells": [
  {
   "cell_type": "code",
   "execution_count": null,
   "id": "f2f969b5-63f5-4778-b294-626d85303ab3",
   "metadata": {},
   "outputs": [],
   "source": [
    "import smtplib\n",
    "from email.mime.multipart import MIMEMultipart\n",
    "from email.mime.text import MIMEText\n",
    "\n",
    "def send_email():\n",
    "    # Your email credentials\n",
    "    sender_email = 'your_email@example.com'\n",
    "    sender_password = 'your_password'\n",
    "    receiver_email = input(\"Enter the recipient's email address: \")\n",
    "    \n",
    "    subject = input(\"Enter the subject of the email: \")\n",
    "    body = input(\"Enter the body of the email: \")\n",
    "    \n",
    "    # Create the email\n",
    "    msg = MIMEMultipart()\n",
    "    msg['From'] = sender_email\n",
    "    msg['To'] = receiver_email\n",
    "    msg['Subject'] = subject\n",
    "    \n",
    "    msg.attach(MIMEText(body, 'plain'))\n",
    "    \n",
    "    # Connect to the server and send the email\n",
    "    try:\n",
    "        server = smtplib.SMTP('smtp.gmail.com', 587)\n",
    "        server.starttls()\n",
    "        server.login(sender_email, sender_password)\n",
    "        text = msg.as_string()\n",
    "        server.sendmail(sender_email, receiver_email, text)\n",
    "        server.quit()\n",
    "        \n",
    "        print(f\"Email sent to {receiver_email}\")\n",
    "    except Exception as e:\n",
    "        print(f\"Failed to send email. Error: {e}\")\n",
    "\n",
    "if __name__ == \"__main__\":\n",
    "    send_email()\n"
   ]
  },
  {
   "cell_type": "code",
   "execution_count": null,
   "id": "a8e54b20-4214-47d0-b3d1-fea6b5e3037d",
   "metadata": {},
   "outputs": [],
   "source": []
  },
  {
   "cell_type": "code",
   "execution_count": null,
   "id": "097de547-c33a-43e8-bee1-3b926747facb",
   "metadata": {},
   "outputs": [],
   "source": []
  },
  {
   "cell_type": "code",
   "execution_count": null,
   "id": "e36259f2-da56-4610-9e4c-5159eb5c291c",
   "metadata": {},
   "outputs": [],
   "source": []
  },
  {
   "cell_type": "code",
   "execution_count": null,
   "id": "c40f6fc8-52ad-4f16-b2bb-8428230a4ecc",
   "metadata": {},
   "outputs": [],
   "source": []
  },
  {
   "cell_type": "code",
   "execution_count": null,
   "id": "dc6fcccc-0284-4043-b057-c41d639ac6a7",
   "metadata": {},
   "outputs": [],
   "source": []
  }
 ],
 "metadata": {
  "kernelspec": {
   "display_name": "Python 3 (ipykernel)",
   "language": "python",
   "name": "python3"
  },
  "language_info": {
   "codemirror_mode": {
    "name": "ipython",
    "version": 3
   },
   "file_extension": ".py",
   "mimetype": "text/x-python",
   "name": "python",
   "nbconvert_exporter": "python",
   "pygments_lexer": "ipython3",
   "version": "3.12.4"
  }
 },
 "nbformat": 4,
 "nbformat_minor": 5
}
